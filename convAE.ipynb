{
  "nbformat": 4,
  "nbformat_minor": 0,
  "metadata": {
    "colab": {
      "name": "convAE.ipynb",
      "provenance": [],
      "collapsed_sections": [],
      "mount_file_id": "1hD7Qp6YNWhN6Il4Lp04Rxrr1uNlQZ8Y7",
      "authorship_tag": "ABX9TyOa0bMojW9r4zPEHz/lqHvg",
      "include_colab_link": true
    },
    "kernelspec": {
      "name": "python3",
      "display_name": "Python 3"
    },
    "accelerator": "GPU",
    "widgets": {
      "application/vnd.jupyter.widget-state+json": {
        "d7aa9d005ec14416924269fa7f41a997": {
          "model_module": "@jupyter-widgets/controls",
          "model_name": "HBoxModel",
          "state": {
            "_view_name": "HBoxView",
            "_dom_classes": [],
            "_model_name": "HBoxModel",
            "_view_module": "@jupyter-widgets/controls",
            "_model_module_version": "1.5.0",
            "_view_count": null,
            "_view_module_version": "1.5.0",
            "box_style": "",
            "layout": "IPY_MODEL_892c7cd544e5404bb3744900158f47f2",
            "_model_module": "@jupyter-widgets/controls",
            "children": [
              "IPY_MODEL_978792f61bb5475caebda5ee0028820b",
              "IPY_MODEL_1a08742c6dc740ecb765f3831559172e"
            ]
          }
        },
        "892c7cd544e5404bb3744900158f47f2": {
          "model_module": "@jupyter-widgets/base",
          "model_name": "LayoutModel",
          "state": {
            "_view_name": "LayoutView",
            "grid_template_rows": null,
            "right": null,
            "justify_content": null,
            "_view_module": "@jupyter-widgets/base",
            "overflow": null,
            "_model_module_version": "1.2.0",
            "_view_count": null,
            "flex_flow": null,
            "width": null,
            "min_width": null,
            "border": null,
            "align_items": null,
            "bottom": null,
            "_model_module": "@jupyter-widgets/base",
            "top": null,
            "grid_column": null,
            "overflow_y": null,
            "overflow_x": null,
            "grid_auto_flow": null,
            "grid_area": null,
            "grid_template_columns": null,
            "flex": null,
            "_model_name": "LayoutModel",
            "justify_items": null,
            "grid_row": null,
            "max_height": null,
            "align_content": null,
            "visibility": null,
            "align_self": null,
            "height": null,
            "min_height": null,
            "padding": null,
            "grid_auto_rows": null,
            "grid_gap": null,
            "max_width": null,
            "order": null,
            "_view_module_version": "1.2.0",
            "grid_template_areas": null,
            "object_position": null,
            "object_fit": null,
            "grid_auto_columns": null,
            "margin": null,
            "display": null,
            "left": null
          }
        },
        "978792f61bb5475caebda5ee0028820b": {
          "model_module": "@jupyter-widgets/controls",
          "model_name": "FloatProgressModel",
          "state": {
            "_view_name": "ProgressView",
            "style": "IPY_MODEL_14f53eef97754678bcfd4a38495b8171",
            "_dom_classes": [],
            "description": "",
            "_model_name": "FloatProgressModel",
            "bar_style": "info",
            "max": 1,
            "_view_module": "@jupyter-widgets/controls",
            "_model_module_version": "1.5.0",
            "value": 1,
            "_view_count": null,
            "_view_module_version": "1.5.0",
            "orientation": "horizontal",
            "min": 0,
            "description_tooltip": null,
            "_model_module": "@jupyter-widgets/controls",
            "layout": "IPY_MODEL_38a536c8875f43bc85c2a04d6e0e35a5"
          }
        },
        "1a08742c6dc740ecb765f3831559172e": {
          "model_module": "@jupyter-widgets/controls",
          "model_name": "HTMLModel",
          "state": {
            "_view_name": "HTMLView",
            "style": "IPY_MODEL_fe74805e8f4a4284b2c00b98a8f5644c",
            "_dom_classes": [],
            "description": "",
            "_model_name": "HTMLModel",
            "placeholder": "​",
            "_view_module": "@jupyter-widgets/controls",
            "_model_module_version": "1.5.0",
            "value": " 170500096/? [00:20&lt;00:00, 51623214.33it/s]",
            "_view_count": null,
            "_view_module_version": "1.5.0",
            "description_tooltip": null,
            "_model_module": "@jupyter-widgets/controls",
            "layout": "IPY_MODEL_c13c409bf26040379150c759132db40e"
          }
        },
        "14f53eef97754678bcfd4a38495b8171": {
          "model_module": "@jupyter-widgets/controls",
          "model_name": "ProgressStyleModel",
          "state": {
            "_view_name": "StyleView",
            "_model_name": "ProgressStyleModel",
            "description_width": "initial",
            "_view_module": "@jupyter-widgets/base",
            "_model_module_version": "1.5.0",
            "_view_count": null,
            "_view_module_version": "1.2.0",
            "bar_color": null,
            "_model_module": "@jupyter-widgets/controls"
          }
        },
        "38a536c8875f43bc85c2a04d6e0e35a5": {
          "model_module": "@jupyter-widgets/base",
          "model_name": "LayoutModel",
          "state": {
            "_view_name": "LayoutView",
            "grid_template_rows": null,
            "right": null,
            "justify_content": null,
            "_view_module": "@jupyter-widgets/base",
            "overflow": null,
            "_model_module_version": "1.2.0",
            "_view_count": null,
            "flex_flow": null,
            "width": null,
            "min_width": null,
            "border": null,
            "align_items": null,
            "bottom": null,
            "_model_module": "@jupyter-widgets/base",
            "top": null,
            "grid_column": null,
            "overflow_y": null,
            "overflow_x": null,
            "grid_auto_flow": null,
            "grid_area": null,
            "grid_template_columns": null,
            "flex": null,
            "_model_name": "LayoutModel",
            "justify_items": null,
            "grid_row": null,
            "max_height": null,
            "align_content": null,
            "visibility": null,
            "align_self": null,
            "height": null,
            "min_height": null,
            "padding": null,
            "grid_auto_rows": null,
            "grid_gap": null,
            "max_width": null,
            "order": null,
            "_view_module_version": "1.2.0",
            "grid_template_areas": null,
            "object_position": null,
            "object_fit": null,
            "grid_auto_columns": null,
            "margin": null,
            "display": null,
            "left": null
          }
        },
        "fe74805e8f4a4284b2c00b98a8f5644c": {
          "model_module": "@jupyter-widgets/controls",
          "model_name": "DescriptionStyleModel",
          "state": {
            "_view_name": "StyleView",
            "_model_name": "DescriptionStyleModel",
            "description_width": "",
            "_view_module": "@jupyter-widgets/base",
            "_model_module_version": "1.5.0",
            "_view_count": null,
            "_view_module_version": "1.2.0",
            "_model_module": "@jupyter-widgets/controls"
          }
        },
        "c13c409bf26040379150c759132db40e": {
          "model_module": "@jupyter-widgets/base",
          "model_name": "LayoutModel",
          "state": {
            "_view_name": "LayoutView",
            "grid_template_rows": null,
            "right": null,
            "justify_content": null,
            "_view_module": "@jupyter-widgets/base",
            "overflow": null,
            "_model_module_version": "1.2.0",
            "_view_count": null,
            "flex_flow": null,
            "width": null,
            "min_width": null,
            "border": null,
            "align_items": null,
            "bottom": null,
            "_model_module": "@jupyter-widgets/base",
            "top": null,
            "grid_column": null,
            "overflow_y": null,
            "overflow_x": null,
            "grid_auto_flow": null,
            "grid_area": null,
            "grid_template_columns": null,
            "flex": null,
            "_model_name": "LayoutModel",
            "justify_items": null,
            "grid_row": null,
            "max_height": null,
            "align_content": null,
            "visibility": null,
            "align_self": null,
            "height": null,
            "min_height": null,
            "padding": null,
            "grid_auto_rows": null,
            "grid_gap": null,
            "max_width": null,
            "order": null,
            "_view_module_version": "1.2.0",
            "grid_template_areas": null,
            "object_position": null,
            "object_fit": null,
            "grid_auto_columns": null,
            "margin": null,
            "display": null,
            "left": null
          }
        }
      }
    }
  },
  "cells": [
    {
      "cell_type": "markdown",
      "metadata": {
        "id": "view-in-github",
        "colab_type": "text"
      },
      "source": [
        "<a href=\"https://colab.research.google.com/github/chaechocho/CAE/blob/master/convAE.ipynb\" target=\"_parent\"><img src=\"https://colab.research.google.com/assets/colab-badge.svg\" alt=\"Open In Colab\"/></a>"
      ]
    },
    {
      "cell_type": "code",
      "metadata": {
        "id": "yqAv9cnf_uOL"
      },
      "source": [
        "import torch\r\n",
        "import torch.nn as nn\r\n",
        "import copy\r\n",
        "import numpy as np\r\n",
        "from sklearn.cluster import KMeans\r\n",
        "import torch.optim as optim\r\n",
        "from torch.optim import lr_scheduler\r\n",
        "from torchvision import datasets, models, transforms"
      ],
      "execution_count": null,
      "outputs": []
    },
    {
      "cell_type": "code",
      "metadata": {
        "colab": {
          "base_uri": "https://localhost:8080/",
          "height": 103,
          "referenced_widgets": [
            "d7aa9d005ec14416924269fa7f41a997",
            "892c7cd544e5404bb3744900158f47f2",
            "978792f61bb5475caebda5ee0028820b",
            "1a08742c6dc740ecb765f3831559172e",
            "14f53eef97754678bcfd4a38495b8171",
            "38a536c8875f43bc85c2a04d6e0e35a5",
            "fe74805e8f4a4284b2c00b98a8f5644c",
            "c13c409bf26040379150c759132db40e"
          ]
        },
        "id": "Xi7EDotSQHwE",
        "outputId": "3b1b6c55-7668-4153-f100-30c820a1a4f8"
      },
      "source": [
        "#Converting data to torch.FloatTensor\r\n",
        "transform = transforms.ToTensor()\r\n",
        "\r\n",
        "# Download the training and test datasets\r\n",
        "train_data = datasets.CIFAR10(root='data', train=True, download=True, transform=transform)\r\n",
        "test_data = datasets.CIFAR10(root='data', train=False, download=True, transform=transform)\r\n",
        "\r\n",
        "#Prepare data loaders\r\n",
        "train_loader = torch.utils.data.DataLoader(train_data, batch_size=32, num_workers=0)\r\n",
        "test_loader = torch.utils.data.DataLoader(test_data, batch_size=32, num_workers=0)"
      ],
      "execution_count": null,
      "outputs": [
        {
          "output_type": "stream",
          "text": [
            "Downloading https://www.cs.toronto.edu/~kriz/cifar-10-python.tar.gz to data/cifar-10-python.tar.gz\n"
          ],
          "name": "stdout"
        },
        {
          "output_type": "display_data",
          "data": {
            "application/vnd.jupyter.widget-view+json": {
              "model_id": "d7aa9d005ec14416924269fa7f41a997",
              "version_minor": 0,
              "version_major": 2
            },
            "text/plain": [
              "HBox(children=(FloatProgress(value=1.0, bar_style='info', max=1.0), HTML(value='')))"
            ]
          },
          "metadata": {
            "tags": []
          }
        },
        {
          "output_type": "stream",
          "text": [
            "Extracting data/cifar-10-python.tar.gz to data\n",
            "Files already downloaded and verified\n"
          ],
          "name": "stdout"
        }
      ]
    },
    {
      "cell_type": "code",
      "metadata": {
        "id": "ZWZfDHh2ZxGx"
      },
      "source": [
        "class CAE(nn.Module):\r\n",
        "    def __init__(self):\r\n",
        "        super(CAE, self).__init__()\r\n",
        "        self.conv1 = nn.Conv2d(3, 32, 5, stride=2, padding=2, bias=True)\r\n",
        "        self.bn1_1 = nn.BatchNorm2d(32)\r\n",
        "        self.conv2 = nn.Conv2d(32, 64, 5, stride=2, padding=2, bias=True)\r\n",
        "        self.bn2_1 = nn.BatchNorm2d(64)\r\n",
        "        self.conv3 = nn.Conv2d(64, 128, 3, stride=2, padding=0, bias=True)\r\n",
        "        self.embedding = nn.Linear(3*3*128, 3, bias=True)\r\n",
        "\r\n",
        "        self.deembedding = nn.Linear(3, 128*3*3, bias=True)\r\n",
        "        self.deconv3 = nn.ConvTranspose2d(128, 64, 3, stride=2, padding=0, output_padding=1, bias=True)\r\n",
        "        self.bn3_2 = nn.BatchNorm2d(64)\r\n",
        "        self.deconv2 = nn.ConvTranspose2d(64, 32, 5, stride=2, padding=2, output_padding=1, bias=True)\r\n",
        "        self.bn2_2 = nn.BatchNorm2d(32)\r\n",
        "        self.deconv1 = nn.ConvTranspose2d(32, 3, 5, stride=2, padding=2, output_padding=1, bias=True)\r\n",
        "\r\n",
        "        self.relu = nn.LeakyReLU(negative_slope=0.01)\r\n",
        "        self.relu1_1 = copy.deepcopy(self.relu)\r\n",
        "        self.relu2_1 = copy.deepcopy(self.relu)\r\n",
        "        self.relu3_1 = copy.deepcopy(self.relu)\r\n",
        "        self.relu1_2 = copy.deepcopy(self.relu)\r\n",
        "        self.relu2_2 = copy.deepcopy(self.relu)\r\n",
        "        self.relu3_2 = copy.deepcopy(self.relu)\r\n",
        "\r\n",
        "    def forward(self, x):\r\n",
        "        x = self.conv1(x)\r\n",
        "        x = self.relu1_1(x)\r\n",
        "        x = self.bn1_1(x)\r\n",
        "        x = self.conv2(x)\r\n",
        "        x = self.relu2_1(x)\r\n",
        "        x = self.bn2_1(x)\r\n",
        "        x = self.conv3(x)\r\n",
        "        x = self.relu3_1(x)\r\n",
        "        x = x.view(x.size(0), -1)\r\n",
        "      \r\n",
        "        x = self.embedding(x)\r\n",
        "        extra_out = x\r\n",
        "        x = self.deembedding(x)\r\n",
        "\r\n",
        "        x = self.relu1_2(x)\r\n",
        "        x = x.view(x.size(0), 128, 3, 3)\r\n",
        "        x = self.deconv3(x)\r\n",
        "        x = self.relu2_2(x)\r\n",
        "        x = self.bn3_2(x)\r\n",
        "        x = self.deconv2(x)\r\n",
        "        x = self.relu3_2(x)\r\n",
        "        x = self.bn2_2(x)\r\n",
        "        x = self.deconv1(x)\r\n",
        "        \r\n",
        "        return x, _, extra_out\r\n"
      ],
      "execution_count": null,
      "outputs": []
    },
    {
      "cell_type": "code",
      "metadata": {
        "colab": {
          "base_uri": "https://localhost:8080/"
        },
        "id": "yTgJ4XYMezvO",
        "outputId": "9d7b7871-0c4e-4d52-ee00-9710675b4b19"
      },
      "source": [
        "device = torch.device(\"cuda:0\" if torch.cuda.is_available() else \"cpu\")\r\n",
        "\r\n",
        "model = CAE()\r\n",
        "model = model.to(device)\r\n",
        "criterion = nn.MSELoss(size_average=True)\r\n",
        "\r\n",
        "optimizer = optim.Adam(filter(lambda p: p.requires_grad, model.parameters()), lr=0.001, weight_decay=0.0)\r\n",
        "scheduler = lr_scheduler.StepLR(optimizer, step_size=200, gamma=0.1)\r\n"
      ],
      "execution_count": null,
      "outputs": [
        {
          "output_type": "stream",
          "text": [
            "/usr/local/lib/python3.7/dist-packages/torch/nn/_reduction.py:44: UserWarning: size_average and reduce args will be deprecated, please use reduction='mean' instead.\n",
            "  warnings.warn(warning.format(ret))\n"
          ],
          "name": "stderr"
        }
      ]
    },
    {
      "cell_type": "code",
      "metadata": {
        "colab": {
          "base_uri": "https://localhost:8080/"
        },
        "id": "dFg9boKmfO2-",
        "outputId": "b090ade7-0c95-4fc5-ea12-d894bd2a022f"
      },
      "source": [
        "print(model)"
      ],
      "execution_count": null,
      "outputs": [
        {
          "output_type": "stream",
          "text": [
            "CAE(\n",
            "  (conv1): Conv2d(3, 32, kernel_size=(5, 5), stride=(2, 2), padding=(2, 2))\n",
            "  (bn1_1): BatchNorm2d(32, eps=1e-05, momentum=0.1, affine=True, track_running_stats=True)\n",
            "  (conv2): Conv2d(32, 64, kernel_size=(5, 5), stride=(2, 2), padding=(2, 2))\n",
            "  (bn2_1): BatchNorm2d(64, eps=1e-05, momentum=0.1, affine=True, track_running_stats=True)\n",
            "  (conv3): Conv2d(64, 128, kernel_size=(3, 3), stride=(2, 2))\n",
            "  (embedding): Linear(in_features=1152, out_features=3, bias=True)\n",
            "  (deembedding): Linear(in_features=3, out_features=1152, bias=True)\n",
            "  (deconv3): ConvTranspose2d(128, 64, kernel_size=(3, 3), stride=(2, 2), output_padding=(1, 1))\n",
            "  (bn3_2): BatchNorm2d(64, eps=1e-05, momentum=0.1, affine=True, track_running_stats=True)\n",
            "  (deconv2): ConvTranspose2d(64, 32, kernel_size=(5, 5), stride=(2, 2), padding=(2, 2), output_padding=(1, 1))\n",
            "  (bn2_2): BatchNorm2d(32, eps=1e-05, momentum=0.1, affine=True, track_running_stats=True)\n",
            "  (deconv1): ConvTranspose2d(32, 3, kernel_size=(5, 5), stride=(2, 2), padding=(2, 2), output_padding=(1, 1))\n",
            "  (relu): LeakyReLU(negative_slope=0.01)\n",
            "  (relu1_1): LeakyReLU(negative_slope=0.01)\n",
            "  (relu2_1): LeakyReLU(negative_slope=0.01)\n",
            "  (relu3_1): LeakyReLU(negative_slope=0.01)\n",
            "  (relu1_2): LeakyReLU(negative_slope=0.01)\n",
            "  (relu2_2): LeakyReLU(negative_slope=0.01)\n",
            "  (relu3_2): LeakyReLU(negative_slope=0.01)\n",
            ")\n"
          ],
          "name": "stdout"
        }
      ]
    },
    {
      "cell_type": "code",
      "metadata": {
        "id": "c8yJ8z79_QtD"
      },
      "source": [
        "best_model_wts = copy.deepcopy(model.state_dict())\r\n",
        "best_loss = 10000.0\r\n",
        "\r\n",
        "num_epoch = 100\r\n",
        "batch = 256\r\n",
        "print_freq = 1563\r\n",
        "\r\n",
        "for epoch in range(num_epoch):\r\n",
        "    scheduler.step()\r\n",
        "    running_loss = 0.0\r\n",
        "    batch_num = 1\r\n",
        "    for data in train_loader:\r\n",
        "        inputs, _ = data\r\n",
        "        inputs = inputs.to(device)\r\n",
        "        optimizer.zero_grad()\r\n",
        "\r\n",
        "        with torch.set_grad_enabled(True):\r\n",
        "            outputs, _, _ = model(inputs)\r\n",
        "            loss = criterion(outputs, inputs)\r\n",
        "            loss.backward()\r\n",
        "            optimizer.step()\r\n",
        "        \r\n",
        "        running_loss += loss.item() * inputs.size(0)\r\n",
        "\r\n",
        "        loss_batch = loss.item()\r\n",
        "        loss_accum = running_loss / ((batch_num - 1) * batch + inputs.size(0))\r\n",
        "\r\n",
        "        if batch_num % print_freq == 0:\r\n",
        "            print('Epoch: [{0}][{1}/{2}]\\t'\r\n",
        "                           'Loss {3:.4f} ({4:.4f})\\t'.format(epoch + 1, batch_num, len(train_loader),\r\n",
        "                                                             loss_batch,\r\n",
        "                                                             loss_accum))\r\n",
        "        batch_num = batch_num + 1\r\n",
        "        \r\n",
        "    epoch_loss = loss\r\n",
        "    if epoch_loss < best_loss or epoch_loss >= best_loss:\r\n",
        "        best_loss = epoch_loss\r\n",
        "        best_model_wts = copy.deepcopy(model.state_dict())"
      ],
      "execution_count": null,
      "outputs": []
    },
    {
      "cell_type": "code",
      "metadata": {
        "colab": {
          "base_uri": "https://localhost:8080/"
        },
        "id": "lss7wncKFlxp",
        "outputId": "c6f601e7-d4d8-4fa2-dd5b-b2724c639390"
      },
      "source": [
        "from google.colab import drive\r\n",
        "drive.mount('/content/gdrive/')"
      ],
      "execution_count": null,
      "outputs": [
        {
          "output_type": "stream",
          "text": [
            "Mounted at /content/gdrive/\n"
          ],
          "name": "stdout"
        }
      ]
    },
    {
      "cell_type": "code",
      "metadata": {
        "id": "acLbSlLvFsEI"
      },
      "source": [
        ""
      ],
      "execution_count": null,
      "outputs": []
    },
    {
      "cell_type": "code",
      "metadata": {
        "id": "qLOR7Ph3_u59"
      },
      "source": [
        "model.load_state_dict(best_model_wts)\r\n",
        "model.pretrained = True\r\n",
        "savePath = \"/content/gdrive/My Drive/test_model.pth\"\r\n",
        "torch.save(model.state_dict(), savePath)"
      ],
      "execution_count": null,
      "outputs": []
    },
    {
      "cell_type": "code",
      "metadata": {
        "colab": {
          "base_uri": "https://localhost:8080/"
        },
        "id": "Da-syCgrG5v4",
        "outputId": "fd851fa7-ade8-4a66-9ccc-67e92c94e27a"
      },
      "source": [
        "new_model = CAE()\r\n",
        "new_model.load_state_dict(torch.load(\"/content/gdrive/My Drive/test_model.pth\"))"
      ],
      "execution_count": null,
      "outputs": [
        {
          "output_type": "execute_result",
          "data": {
            "text/plain": [
              "<All keys matched successfully>"
            ]
          },
          "metadata": {
            "tags": []
          },
          "execution_count": 22
        }
      ]
    },
    {
      "cell_type": "code",
      "metadata": {
        "id": "g5k4ak00KS_n"
      },
      "source": [
        "output1 = torch.empty(0, 3)\r\n",
        "with torch.no_grad():\r\n",
        "    for data in test_loader:\r\n",
        "        images, labels = data\r\n",
        "        images = images.to(device)\r\n",
        "        _, _, encoded_data = model(images)\r\n",
        "        output1 = torch.cat([output1, encoded_data.to(\"cpu\")], dim=0)\r\n"
      ],
      "execution_count": null,
      "outputs": []
    },
    {
      "cell_type": "code",
      "metadata": {
        "colab": {
          "base_uri": "https://localhost:8080/",
          "height": 625
        },
        "id": "Ipl07_h2Npbu",
        "outputId": "e8446b27-d5b6-4e5f-d92b-852671558bac"
      },
      "source": [
        "from mpl_toolkits.mplot3d import Axes3D\r\n",
        "from matplotlib import cm\r\n",
        "import matplotlib.pyplot as plt\r\n",
        "\r\n",
        "CLASSES = {\r\n",
        "    0: 'airplane',\r\n",
        "    1: 'automobile',\r\n",
        "    2: 'bird',\r\n",
        "    3: 'cat',\r\n",
        "    4: 'deer',\r\n",
        "    5: 'dog',\r\n",
        "    6: 'frog',\r\n",
        "    7: 'horse',\r\n",
        "    8: 'ship',\r\n",
        "    9: 'truck'\r\n",
        "}\r\n",
        "\r\n",
        "fig = plt.figure(figsize=(10,8))\r\n",
        "ax = Axes3D(fig)\r\n",
        "\r\n",
        "\r\n",
        "X = output1.data[:,0].numpy()\r\n",
        "Y = output1.data[:,1].numpy()\r\n",
        "Z = output1.data[:,2].numpy()\r\n",
        "\r\n",
        "labels = test_data.targets\r\n",
        "\r\n",
        "for x, y, z, s in zip(X, Y, Z, labels):\r\n",
        "    name = CLASSES[s]\r\n",
        "    color = cm.rainbow(int(255*s/9))\r\n",
        "    ax.text(x, y, z, name, backgroundcolor=color)\r\n",
        "\r\n",
        "ax.set_xlim(X.min(), X.max())\r\n",
        "ax.set_ylim(Y.min(), Y.max())\r\n",
        "ax.set_zlim(Z.min(), Z.max())\r\n",
        "plt.show()\r\n"
      ],
      "execution_count": null,
      "outputs": [
        {
          "output_type": "display_data",
          "data": {
            "image/png": "[encoded data removed]",
            "text/plain": [
              "<Figure size 720x576 with 1 Axes>"
            ]
          },
          "metadata": {
            "tags": [],
            "needs_background": "light"
          }
        },
        {
          "output_type": "display_data",
          "data": {
            "text/plain": [
              "<Figure size 432x288 with 0 Axes>"
            ]
          },
          "metadata": {
            "tags": []
          }
        }
      ]
    },
    {
      "cell_type": "code",
      "metadata": {
        "id": "dOBWQQ1i1qRD",
        "colab": {
          "base_uri": "https://localhost:8080/",
          "height": 35
        },
        "outputId": "04f31ccb-4560-406e-c436-0747fce3a88e"
      },
      "source": [
        "plt.savefig(\"/content/gdrive/My Drive/LatentFeature.png\")"
      ],
      "execution_count": null,
      "outputs": [
        {
          "output_type": "display_data",
          "data": {
            "text/plain": [
              "<Figure size 432x288 with 0 Axes>"
            ]
          },
          "metadata": {
            "tags": []
          }
        }
      ]
    },
    {
      "cell_type": "code",
      "metadata": {
        "colab": {
          "base_uri": "https://localhost:8080/"
        },
        "id": "VkpIuhUAs3mu",
        "outputId": "c7f7fff3-c830-47ed-fcfa-e33c7f00ee8b"
      },
      "source": [
        "!pip install kmeans-pytorch"
      ],
      "execution_count": null,
      "outputs": [
        {
          "output_type": "stream",
          "text": [
            "Collecting kmeans-pytorch\n",
            "  Downloading https://files.pythonhosted.org/packages/b5/c9/eb5b82e7e9741e61acf1aff70530a08810aa0c7e2272c534ff7a150fc5bd/kmeans_pytorch-0.3-py3-none-any.whl\n",
            "Installing collected packages: kmeans-pytorch\n",
            "Successfully installed kmeans-pytorch-0.3\n"
          ],
          "name": "stdout"
        }
      ]
    },
    {
      "cell_type": "code",
      "metadata": {
        "colab": {
          "base_uri": "https://localhost:8080/"
        },
        "id": "tWooq5WXaVyN",
        "outputId": "e62b2425-c1a9-425a-b38c-3371d85d537f"
      },
      "source": [
        ""
      ],
      "execution_count": null,
      "outputs": [
        {
          "output_type": "stream",
          "text": [
            "[running kmeans]: 17it [00:00, 92.10it/s, center_shift=3.406874, iteration=18, tol=0.000100]"
          ],
          "name": "stderr"
        },
        {
          "output_type": "stream",
          "text": [
            "running k-means on cuda:0..\n"
          ],
          "name": "stdout"
        },
        {
          "output_type": "stream",
          "text": [
            "[running kmeans]: 58it [00:00, 93.85it/s, center_shift=0.000056, iteration=58, tol=0.000100]\n"
          ],
          "name": "stderr"
        }
      ]
    },
    {
      "cell_type": "code",
      "metadata": {
        "colab": {
          "base_uri": "https://localhost:8080/",
          "height": 136
        },
        "id": "W_h3J7CUaVv8",
        "outputId": "d024de14-1eaf-43de-d2ec-8e8f6f6e9abc"
      },
      "source": [
        ""
      ],
      "execution_count": null,
      "outputs": [
        {
          "output_type": "error",
          "ename": "SyntaxError",
          "evalue": "ignored",
          "traceback": [
            "\u001b[0;36m  File \u001b[0;32m\"<ipython-input-32-8bae0728a3d0>\"\u001b[0;36m, line \u001b[0;32m1\u001b[0m\n\u001b[0;31m    from kmeans_pytorch import kmeans.lloyd\u001b[0m\n\u001b[0m                                     ^\u001b[0m\n\u001b[0;31mSyntaxError\u001b[0m\u001b[0;31m:\u001b[0m invalid syntax\n"
          ]
        }
      ]
    },
    {
      "cell_type": "code",
      "metadata": {
        "id": "Stxd3MEhaVtd"
      },
      "source": [
        ""
      ],
      "execution_count": null,
      "outputs": []
    },
    {
      "cell_type": "code",
      "metadata": {
        "id": "DspVJVihzGLn"
      },
      "source": [
        "# Clustering layer definition (see DCEC article for equations)\r\n",
        "class ClusterlingLayer(nn.Module):\r\n",
        "    def __init__(self, in_features=10, out_features=10, alpha=1.0):\r\n",
        "        super(ClusterlingLayer, self).__init__()\r\n",
        "        self.in_features = in_features\r\n",
        "        self.out_features = out_features\r\n",
        "        self.alpha = alpha\r\n",
        "        self.weight = nn.Parameter(torch.Tensor(self.out_features, self.in_features))\r\n",
        "        self.weight = nn.init.xavier_uniform_(self.weight)\r\n",
        "\r\n",
        "    def forward(self, x):\r\n",
        "        x = x.unsqueeze(1) - self.weight\r\n",
        "        x = torch.mul(x, x)\r\n",
        "        x = torch.sum(x, dim=2)\r\n",
        "        x = 1.0 + (x / self.alpha)\r\n",
        "        x = 1.0 / x\r\n",
        "        x = x ** ((self.alpha +1.0) / 2.0)\r\n",
        "        x = torch.t(x) / torch.sum(x, dim=1)\r\n",
        "        x = torch.t(x)\r\n",
        "        return x\r\n",
        "\r\n",
        "    def extra_repr(self):\r\n",
        "        return 'in_features={}, out_features={}, alpha={}'.format(\r\n",
        "            self.in_features, self.out_features, self.alpha\r\n",
        "        )\r\n",
        "\r\n",
        "    def set_weight(self, tensor):\r\n",
        "        self.weight = nn.Parameter(tensor)\r\n"
      ],
      "execution_count": null,
      "outputs": []
    },
    {
      "cell_type": "code",
      "metadata": {
        "id": "zL70YsqxzGcn"
      },
      "source": [
        "class CAE_bn3(nn.Module):\r\n",
        "    def __init__(self, input_shape=[128,128,3], num_clusters=3, filters=[32, 64, 128], leaky=True, neg_slope=0.01, activations=False, bias=True):\r\n",
        "        super(CAE_bn3, self).__init__()\r\n",
        "        self.activations=activations\r\n",
        "        self.pretrained = False\r\n",
        "        self.num_clusters = num_clusters\r\n",
        "        self.input_shape = input_shape\r\n",
        "        self.filters = filters\r\n",
        "        self.conv1 = nn.Conv2d(input_shape[2], filters[0], 5, stride=2, padding=2, bias=bias)\r\n",
        "        self.bn1_1 = nn.BatchNorm2d(filters[0])\r\n",
        "        if leaky:\r\n",
        "            self.relu = nn.LeakyReLU(negative_slope=neg_slope)\r\n",
        "        else:\r\n",
        "            self.relu = nn.ReLU(inplace=False)\r\n",
        "        self.conv2 = nn.Conv2d(filters[0], filters[1], 5, stride=2, padding=2, bias=bias)\r\n",
        "        self.bn2_1 = nn.BatchNorm2d(filters[1])\r\n",
        "        self.conv3 = nn.Conv2d(filters[1], filters[2], 3, stride=2, padding=0, bias=bias)\r\n",
        "        lin_features_len = ((input_shape[0]//2//2-1) // 2) * ((input_shape[0]//2//2-1) // 2) * filters[2]\r\n",
        "        #self.embedding = nn.Linear(lin_features_len, num_clusters, bias=bias)\r\n",
        "\r\n",
        "        #self.deembedding = nn.Linear(num_clusters, lin_features_len, bias=bias)\r\n",
        "        self.embedding = nn.Linear(128*3*3, num_clusters, bias=bias)\r\n",
        "\r\n",
        "        self.deembedding = nn.Linear(num_clusters, 128*3*3, bias=bias)\r\n",
        "              \r\n",
        "        \r\n",
        "        out_pad = 1 if input_shape[0] // 2 // 2 % 2 == 0 else 0\r\n",
        "        self.deconv3 = nn.ConvTranspose2d(filters[2], filters[1], 3, stride=2, padding=0, output_padding=out_pad, bias=bias)\r\n",
        "        out_pad = 1 if input_shape[0] // 2 % 2 == 0 else 0\r\n",
        "        self.bn3_2 = nn.BatchNorm2d(filters[1])\r\n",
        "        self.deconv2 = nn.ConvTranspose2d(filters[1], filters[0], 5, stride=2, padding=2, output_padding=out_pad, bias=bias)\r\n",
        "        out_pad = 1 if input_shape[0] % 2 == 0 else 0\r\n",
        "        self.bn2_2 = nn.BatchNorm2d(filters[0])\r\n",
        "        self.deconv1 = nn.ConvTranspose2d(filters[0], input_shape[2], 5, stride=2, padding=2, output_padding=out_pad, bias=bias)\r\n",
        "        self.clustering = ClusterlingLayer(num_clusters, num_clusters)\r\n",
        "        # ReLU copies for graph representation in tensorboard\r\n",
        "        self.relu1_1 = copy.deepcopy(self.relu)\r\n",
        "        self.relu2_1 = copy.deepcopy(self.relu)\r\n",
        "        self.relu3_1 = copy.deepcopy(self.relu)\r\n",
        "        self.relu1_2 = copy.deepcopy(self.relu)\r\n",
        "        self.relu2_2 = copy.deepcopy(self.relu)\r\n",
        "        self.relu3_2 = copy.deepcopy(self.relu)\r\n",
        "        self.sig = nn.Sigmoid()\r\n",
        "        self.tanh = nn.Tanh()\r\n",
        "\r\n",
        "    def forward(self, x):\r\n",
        "        x = self.conv1(x)\r\n",
        "        x = self.relu1_1(x)\r\n",
        "        x = self.bn1_1(x)\r\n",
        "        x = self.conv2(x)\r\n",
        "        x = self.relu2_1(x)\r\n",
        "        x = self.bn2_1(x)\r\n",
        "        x = self.conv3(x)\r\n",
        "        if self.activations:\r\n",
        "            x = self.sig(x)\r\n",
        "        else:\r\n",
        "            x = self.relu3_1(x)\r\n",
        "        x = x.view(x.size(0), -1)\r\n",
        "      \r\n",
        "        x = self.embedding(x)\r\n",
        "       \r\n",
        "        extra_out = x\r\n",
        "        \r\n",
        "        clustering_out = self.clustering(x)\r\n",
        "\r\n",
        "        x = self.deembedding(x)\r\n",
        "        x = self.relu1_2(x)\r\n",
        "#        x = x.view(x.size(0), self.filters[2], ((self.input_shape[0]//2//2-1) // 2), ((self.input_shape[0]//2//2-1) // 2))\r\n",
        "\r\n",
        "        x = x.view(x.size(0), self.filters[2], 3, 3)\r\n",
        "        x = self.deconv3(x)\r\n",
        "        x = self.relu2_2(x)\r\n",
        "        x = self.bn3_2(x)\r\n",
        "        x = self.deconv2(x)\r\n",
        "        x = self.relu3_2(x)\r\n",
        "        x = self.bn2_2(x)\r\n",
        "        x = self.deconv1(x)\r\n",
        "        if self.activations:\r\n",
        "            x = self.tanh(x)\r\n",
        "        return x, clustering_out, extra_out\r\n"
      ],
      "execution_count": null,
      "outputs": []
    },
    {
      "cell_type": "code",
      "metadata": {
        "colab": {
          "base_uri": "https://localhost:8080/"
        },
        "id": "isj43Q-I0SrV",
        "outputId": "399647df-637a-4ef5-da08-2379968a1eea"
      },
      "source": [
        "device = torch.device(\"cuda:0\" if torch.cuda.is_available() else \"cpu\")\r\n",
        "\r\n",
        "#model = CAE_3()\r\n",
        "model = CAE_bn3()\r\n",
        "model = model.to(device)\r\n",
        "# Reconstruction loss\r\n",
        "criterion_1 = nn.MSELoss(size_average=True)\r\n",
        "# Clustering loss\r\n",
        "#criterion_2 = nn.KLDivLoss(size_average=False)\r\n",
        "\r\n",
        "#criteria = [criterion_1, criterion_2]\r\n",
        "\r\n",
        "optimizer = optim.Adam(filter(lambda p: p.requires_grad, model.parameters()), lr=0.001, weight_decay=0.0)\r\n",
        "\r\n",
        "#optimizer_pretrain = optim.Adam(filter(lambda p: p.requires_grad, model.parameters()), lr=0.001, weight_decay=0.0)\r\n",
        "\r\n",
        "#optimizers = [optimizer, optimizer_pretrain]\r\n",
        "\r\n",
        "scheduler = lr_scheduler.StepLR(optimizer, step_size=200, gamma=0.1)\r\n",
        "scheduler_pretrain = lr_scheduler.StepLR(optimizer_pretrain, step_size=200, gamma=0.1)\r\n",
        "\r\n",
        "schedulers = [scheduler, scheduler_pretrain]"
      ],
      "execution_count": null,
      "outputs": [
        {
          "output_type": "stream",
          "text": [
            "/usr/local/lib/python3.7/dist-packages/torch/nn/_reduction.py:44: UserWarning: size_average and reduce args will be deprecated, please use reduction='mean' instead.\n",
            "  warnings.warn(warning.format(ret))\n",
            "/usr/local/lib/python3.7/dist-packages/torch/nn/_reduction.py:44: UserWarning: size_average and reduce args will be deprecated, please use reduction='sum' instead.\n",
            "  warnings.warn(warning.format(ret))\n"
          ],
          "name": "stderr"
        }
      ]
    },
    {
      "cell_type": "code",
      "metadata": {
        "id": "XsfVLlK0ZcbB"
      },
      "source": [
        "class CAE_3(nn.Module):\r\n",
        "    def __init__(self, input_shape=[128,128,3], num_clusters=3, filters=[32, 64, 128], leaky=True, neg_slope=0.01, activations=False, bias=True):\r\n",
        "        super(CAE_3, self).__init__()\r\n",
        "        self.activations = activations\r\n",
        "        # bias = True\r\n",
        "        self.pretrained = False\r\n",
        "        self.num_clusters = num_clusters\r\n",
        "        self.input_shape = input_shape\r\n",
        "        self.filters = filters\r\n",
        "        self.conv1 = nn.Conv2d(input_shape[2], filters[0], 5, stride=2, padding=2, bias=bias)\r\n",
        "        if leaky:\r\n",
        "            self.relu = nn.LeakyReLU(negative_slope=neg_slope)\r\n",
        "        else:\r\n",
        "            self.relu = nn.ReLU(inplace=False)\r\n",
        "        self.conv2 = nn.Conv2d(filters[0], filters[1], 5, stride=2, padding=2, bias=bias)\r\n",
        "        self.conv3 = nn.Conv2d(filters[1], filters[2], 3, stride=2, padding=0, bias=bias)\r\n",
        "        lin_features_len = ((input_shape[0]//2//2-1) // 2) * ((input_shape[0]//2//2-1) // 2) * filters[2]   #15*15*128\r\n",
        "        \r\n",
        "        print('lin_features_len', lin_features_len)\r\n",
        "\r\n",
        "        self.embedding = nn.Linear(128*3*3, num_clusters, bias=bias)\r\n",
        "\r\n",
        "        self.deembedding = nn.Linear(num_clusters, 128*3*3, bias=bias)\r\n",
        "        \r\n",
        "        #self.embedding = nn.Linear(lin_features_len, num_clusters, bias=bias)\r\n",
        "\r\n",
        "        #self.deembedding = nn.Linear(num_clusters, lin_features_len, bias=bias)\r\n",
        "        out_pad = 1 if input_shape[0] // 2 // 2 % 2 == 0 else 0\r\n",
        "        self.deconv3 = nn.ConvTranspose2d(filters[2], filters[1], 3, stride=2, padding=0, output_padding=out_pad, bias=bias)\r\n",
        "        out_pad = 1 if input_shape[0] // 2 % 2 == 0 else 0\r\n",
        "        self.deconv2 = nn.ConvTranspose2d(filters[1], filters[0], 5, stride=2, padding=2, output_padding=out_pad, bias=bias)\r\n",
        "        out_pad = 1 if input_shape[0] % 2 == 0 else 0\r\n",
        "        self.deconv1 = nn.ConvTranspose2d(filters[0], input_shape[2], 5, stride=2, padding=2, output_padding=out_pad, bias=bias)\r\n",
        "        self.clustering = ClusterlingLayer(num_clusters, num_clusters)\r\n",
        "        # ReLU copies for graph representation in tensorboard\r\n",
        "        self.relu1_1 = copy.deepcopy(self.relu)\r\n",
        "        self.relu2_1 = copy.deepcopy(self.relu)\r\n",
        "        self.relu3_1 = copy.deepcopy(self.relu)\r\n",
        "        self.relu1_2 = copy.deepcopy(self.relu)\r\n",
        "        self.relu2_2 = copy.deepcopy(self.relu)\r\n",
        "        self.relu3_2 = copy.deepcopy(self.relu)\r\n",
        "        self.sig = nn.Sigmoid()\r\n",
        "        self.tanh = nn.Tanh()\r\n",
        "\r\n",
        "    def forward(self, x):\r\n",
        "        x = self.conv1(x)\r\n",
        "        x = self.relu1_1(x)\r\n",
        "        x = self.conv2(x)\r\n",
        "        x = self.relu2_1(x)\r\n",
        "        x = self.conv3(x)\r\n",
        "        if self.activations:\r\n",
        "            x = self.sig(x)\r\n",
        "        else:\r\n",
        "            x = self.relu3_1(x)\r\n",
        "        x = x.view(x.size(0), -1)\r\n",
        "        x = self.embedding(x)\r\n",
        "        extra_out = x\r\n",
        "        clustering_out = self.clustering(x)\r\n",
        "        x = self.deembedding(x)\r\n",
        "        x = self.relu1_2(x)\r\n",
        "        #x = x.view(x.size(0), self.filters[2], ((self.input_shape[0]//2//2-1) // 2), ((self.input_shape[0]//2//2-1) // 2))\r\n",
        "        x = x.view(x.size(0), self.filters[2], 3, 3)\r\n",
        "        \r\n",
        "        x = self.deconv3(x)\r\n",
        "        x = self.relu2_2(x)\r\n",
        "        x = self.deconv2(x)\r\n",
        "        x = self.relu3_2(x)\r\n",
        "        x = self.deconv1(x)\r\n",
        "        if self.activations:\r\n",
        "            x = self.tanh(x)\r\n",
        "        return x, clustering_out, extra_out"
      ],
      "execution_count": null,
      "outputs": []
    },
    {
      "cell_type": "code",
      "metadata": {
        "id": "mG5IP6UQHmpH"
      },
      "source": [
        "# 잠재변수를 3D 플롯으로 시각화\r\n",
        "print(test_data.data[1].shape)\r\n",
        "view_data = torch.from_numpy(test_data.data[:200])\r\n",
        "test_x = view_data.to(device)\r\n",
        "_, _, encoded_data = model(test_x)\r\n",
        "encoded_data = encoded_data.to(\"cpu\")"
      ],
      "execution_count": null,
      "outputs": []
    },
    {
      "cell_type": "code",
      "metadata": {
        "id": "Uy5_UqBAZAkU"
      },
      "source": [
        "best_model_wts = copy.deepcopy(model.state_dict())\r\n",
        "best_loss = 10000.0\r\n",
        "\r\n",
        "num_epoch = 100\r\n",
        "batch = 256\r\n",
        "print_freq = 1563\r\n",
        "\r\n",
        "for epoch in range(num_epoch):\r\n",
        "    scheduler.step()\r\n",
        "    running_loss = 0.0\r\n",
        "    batch_num = 1\r\n",
        "    for data in train_loader:\r\n",
        "        inputs, _ = data\r\n",
        "        inputs = inputs.to(device)\r\n",
        "        optimizer.zero_grad()\r\n",
        "\r\n",
        "        with torch.set_grad_enabled(True):\r\n",
        "            outputs, _, _ = model(inputs)\r\n",
        "            loss = criterion(outputs, inputs)\r\n",
        "            loss.backward()\r\n",
        "            optimizer.step()\r\n",
        "        \r\n",
        "        running_loss += loss.item() * inputs.size(0)\r\n",
        "\r\n",
        "        loss_batch = loss.item()\r\n",
        "        loss_accum = running_loss / ((batch_num - 1) * batch + inputs.size(0))\r\n",
        "\r\n",
        "        if batch_num % print_freq == 0:\r\n",
        "            print('Epoch: [{0}][{1}/{2}]\\t'\r\n",
        "                           'Loss {3:.4f} ({4:.4f})\\t'.format(epoch + 1, batch_num, len(train_loader),\r\n",
        "                                                             loss_batch,\r\n",
        "                                                             loss_accum))\r\n",
        "        batch_num = batch_num + 1\r\n",
        "        \r\n",
        "    epoch_loss = loss\r\n",
        "    if epoch_loss < best_loss or epoch_loss >= best_loss:\r\n",
        "        best_loss = epoch_loss\r\n",
        "        best_model_wts = copy.deepcopy(model.state_dict())"
      ],
      "execution_count": null,
      "outputs": []
    }
  ]
}